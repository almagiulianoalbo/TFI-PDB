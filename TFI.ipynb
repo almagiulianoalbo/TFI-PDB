{
 "nbformat": 4,
 "nbformat_minor": 0,
 "metadata": {
  "colab": {
   "provenance": []
  },
  "kernelspec": {
   "name": "python3",
   "display_name": "Python 3"
  },
  "language_info": {
   "name": "python"
  }
 },
 "cells": [
  {
   "metadata": {},
   "cell_type": "markdown",
   "source": [
    "## **Trabajo Final Integrador - Ingenieria Biomedica**\n",
    "#### Grupo 8"
   ]
  },
  {
   "metadata": {},
   "cell_type": "markdown",
   "source": [
    "### Librerias\n",
    "- _Os_: provee una manera versátil de usar funcionalidades dependientes\n",
    "del sistema operativo para leer carpetas y archivos. https://docs.python.org/es/3.10/library/os.html\n",
    "- _csv_: para lectura de archivos csv. https://docs.python.org/es/3.8/library/csv.html\n",
    "- _matplotlib_: módulo de visualización. https://matplotlib.org/stable/users/index\n",
    "- _pandas_: para gestión de bases de datos. https://pandas.pydata.org/docs/user_guide/index.html"
   ]
  },
  {
   "metadata": {},
   "cell_type": "code",
   "outputs": [],
   "execution_count": null,
   "source": ""
  }
 ]
}
